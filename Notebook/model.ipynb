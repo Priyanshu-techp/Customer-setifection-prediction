{
 "cells": [
  {
   "cell_type": "code",
   "execution_count": 1,
   "id": "5ad1b370",
   "metadata": {},
   "outputs": [],
   "source": [
    "import pandas as pd "
   ]
  },
  {
   "cell_type": "code",
   "execution_count": 2,
   "id": "2aef81b9",
   "metadata": {},
   "outputs": [],
   "source": [
    "df = pd.read_csv('../Data/clean_data.csv')"
   ]
  },
  {
   "cell_type": "markdown",
   "id": "1a043d6e",
   "metadata": {},
   "source": [
    "# split the data "
   ]
  },
  {
   "cell_type": "code",
   "execution_count": 3,
   "id": "363ec715",
   "metadata": {},
   "outputs": [],
   "source": [
    "X = df.drop(['Customer Satisfaction Rating'], axis = 1)\n",
    "y = df['Customer Satisfaction Rating']"
   ]
  },
  {
   "cell_type": "markdown",
   "id": "aac751ec",
   "metadata": {},
   "source": [
    "# import train test split"
   ]
  },
  {
   "cell_type": "code",
   "execution_count": 4,
   "id": "0f399e57",
   "metadata": {},
   "outputs": [],
   "source": [
    "from sklearn.model_selection import train_test_split\n",
    "X_train, X_test, y_train, y_test = train_test_split(X, y, test_size=0.20, random_state=42)"
   ]
  },
  {
   "cell_type": "markdown",
   "id": "7a402c9d",
   "metadata": {},
   "source": [
    "# Load all required model"
   ]
  },
  {
   "cell_type": "code",
   "execution_count": 5,
   "id": "16735723",
   "metadata": {},
   "outputs": [],
   "source": [
    "from sklearn.linear_model import LinearRegression\n",
    "from sklearn.ensemble import RandomForestRegressor, GradientBoostingRegressor\n",
    "from sklearn.svm import SVC\n",
    "from sklearn.tree import DecisionTreeRegressor\n",
    "from sklearn.neighbors import KNeighborsRegressor\n",
    "from sklearn.metrics import r2_score, mean_absolute_error, mean_squared_error\n",
    "from sklearn.model_selection import cross_val_score"
   ]
  },
  {
   "cell_type": "code",
   "execution_count": 6,
   "id": "e4df9228",
   "metadata": {},
   "outputs": [],
   "source": [
    "models = {\n",
    "    'LinearRegression' : LinearRegression(),\n",
    "    'RandomForestRegressor' : RandomForestRegressor(),\n",
    "    'GradientBoostingRegressor' : GradientBoostingRegressor(),\n",
    "    'SVC' : SVC(),\n",
    "    'DecisionTreeRegressor' : DecisionTreeRegressor(),\n",
    "    'KNeighborsRegressor' : KNeighborsRegressor()\n",
    "}"
   ]
  },
  {
   "cell_type": "markdown",
   "id": "23a064e4",
   "metadata": {},
   "source": [
    "# Train all models "
   ]
  },
  {
   "cell_type": "code",
   "execution_count": 7,
   "id": "b0f483c0",
   "metadata": {},
   "outputs": [
    {
     "name": "stdout",
     "output_type": "stream",
     "text": [
      "LinearRegression model r2 score is 0.31462802687397773, adj_r2 is 0.30584120670569537, MSE is 1.3519167391158071, MAE is 1.0301822861186811\n",
      "LinearRegression model cross validation is score is [0.34710781 0.28106948 0.30684423 0.31341323 0.27254344]\n",
      "                           \n",
      "RandomForestRegressor model r2 score is 0.8893507163020874, adj_r2 is 0.8879321357418577, MSE is 0.2182590252707581, MAE is 0.39987364620938626\n",
      "RandomForestRegressor model cross validation is score is [0.89147334 0.89006845 0.89346676 0.89096973 0.8890759 ]\n",
      "                           \n",
      "GradientBoostingRegressor model r2 score is 0.8933951664536246, adj_r2 is 0.8920284378184147, MSE is 0.21028122624369286, MAE is 0.40998431208961394\n",
      "GradientBoostingRegressor model cross validation is score is [0.87964889 0.88863947 0.89639578 0.89244723 0.88587535]\n",
      "                           \n",
      "SVC model r2 score is -0.6444274125744751, adj_r2 is -0.6655098152997889, MSE is 3.243682310469314, MAE is 1.431407942238267\n",
      "SVC model cross validation is score is [0.19494585 0.1967509  0.20938628 0.20938628 0.20976492]\n",
      "                           \n",
      "DecisionTreeRegressor model r2 score is 0.8014241800063099, adj_r2 is 0.798878336160237, MSE is 0.3916967509025271, MAE is 0.3916967509025271\n",
      "DecisionTreeRegressor model cross validation is score is [0.80285691 0.80645773 0.80120261 0.79095139 0.8086316 ]\n",
      "                           \n",
      "KNeighborsRegressor model r2 score is -0.17179865907059932, adj_r2 is -0.1868217188022736, MSE is 2.311407942238267, MAE is 1.272563176895307\n",
      "KNeighborsRegressor model cross validation is score is [-0.04377671 -0.60894453 -0.2209078  -0.1374823  -0.47679843]\n",
      "                           \n"
     ]
    }
   ],
   "source": [
    "for name, model in models.items():\n",
    "    model.fit(X_train, y_train)\n",
    "    y_pred = model.predict(X_test)\n",
    "    \n",
    "    r2 = r2_score(y_test, y_pred)\n",
    "    n = X_test.shape[0]\n",
    "    p = X_test.shape[1]\n",
    "    adj_r2 = 1 - ((1 - r2) * (n - 1))/ (n - p - 1)\n",
    "\n",
    "    MSE = mean_squared_error(y_test, y_pred)\n",
    "    MAE = mean_absolute_error(y_test, y_pred)\n",
    "\n",
    "    cv_score = cross_val_score(model, X, y, cv = 5)\n",
    "    print(f'{name} model r2 score is {r2}, adj_r2 is {adj_r2}, MSE is {MSE}, MAE is {MAE}')\n",
    "    print(f'{name} model cross validation is score is {cv_score}')\n",
    "    print('                           ')"
   ]
  },
  {
   "cell_type": "markdown",
   "id": "f3107857",
   "metadata": {},
   "source": [
    "# Creating pipline for model saving"
   ]
  },
  {
   "cell_type": "code",
   "execution_count": null,
   "id": "4e378242",
   "metadata": {},
   "outputs": [],
   "source": [
    "import pandas as pd\n",
    "import joblib\n",
    "from sklearn.model_selection import train_test_split\n",
    "from sklearn.preprocessing import StandardScaler, OrdinalEncoder\n",
    "from sklearn.compose import ColumnTransformer\n",
    "from sklearn.ensemble import GradientBoostingRegressor\n",
    "from imblearn.pipeline import Pipeline as ImbPipeline \n",
    "\n",
    "\n",
    "df = pd.read_csv('../Data/pipline.csv')\n",
    "\n",
    "\n",
    "target_col = 'Customer Satisfaction Rating' \n",
    "num_col = ['Customer Age', 'Days_Since_Purchase']\n",
    "obj_col = ['Customer Gender', 'Product Purchased', 'Ticket Subject', 'Satisfaction_Level']\n",
    "\n",
    "X = df[num_col + obj_col]\n",
    "y = df[target_col]  \n",
    "\n",
    "X_train, X_test, y_train, y_test = train_test_split(X, y, stratify=y, random_state=42)\n",
    "\n",
    "preprocessor = ColumnTransformer(transformers=[\n",
    "    (\"num\", StandardScaler(), num_col),\n",
    "    (\"cat\", OrdinalEncoder(handle_unknown=\"use_encoded_value\", unknown_value=-1), obj_col)\n",
    "])\n",
    "\n",
    "pipeline = ImbPipeline(steps=[\n",
    "    (\"preprocessing\", preprocessor),\n",
    "    (\"model\", GradientBoostingRegressor())\n",
    "])\n",
    "\n",
    "pipeline.fit(X_train, y_train)\n",
    "\n",
    "joblib.dump(pipeline, \"model.pkl\") \n",
    "print(\"Full pipeline saved successfully!\")\n"
   ]
  },
  {
   "cell_type": "code",
   "execution_count": null,
   "id": "ff8b634c",
   "metadata": {},
   "outputs": [],
   "source": []
  }
 ],
 "metadata": {
  "kernelspec": {
   "display_name": "Python 3",
   "language": "python",
   "name": "python3"
  },
  "language_info": {
   "codemirror_mode": {
    "name": "ipython",
    "version": 3
   },
   "file_extension": ".py",
   "mimetype": "text/x-python",
   "name": "python",
   "nbconvert_exporter": "python",
   "pygments_lexer": "ipython3",
   "version": "3.10.9"
  }
 },
 "nbformat": 4,
 "nbformat_minor": 5
}
